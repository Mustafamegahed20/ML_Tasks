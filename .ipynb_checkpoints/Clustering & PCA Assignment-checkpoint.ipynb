{
 "cells": [
  {
   "cell_type": "markdown",
   "id": "d17bf26b-9735-4367-b6be-48e0a655faa7",
   "metadata": {},
   "source": [
    "# Clustering and PCA\n",
    "\n",
    "In this assignment, you will be exploring difference between clique and kmeans algorithms for clustering and will get better understanding of PCA & Kmeans algorithms by manually implementing both of them.\n",
    "\n",
    "--------------------"
   ]
  },
  {
   "cell_type": "code",
   "execution_count": 1,
   "id": "7bb62775-7921-49d2-954e-e569fb534498",
   "metadata": {},
   "outputs": [],
   "source": [
    "from sklearn.datasets import make_moons, make_blobs\n",
    "import numpy as np\n",
    "from pyclustering.cluster.clique import clique, clique_visualizer\n",
    "from sklearn.cluster import KMeans"
   ]
  },
  {
   "cell_type": "code",
   "execution_count": 2,
   "id": "ca5685a4-811f-4314-ac1d-8453aa091d55",
   "metadata": {},
   "outputs": [],
   "source": [
    "X, y = make_moons(n_samples=250, noise=0.05, random_state=42)"
   ]
  },
  {
   "cell_type": "markdown",
   "id": "76bbc5b5-8cb1-4376-890d-ed12ba2d77a7",
   "metadata": {},
   "source": [
    "# Questoin 1\n",
    "Scatter plot the dataset"
   ]
  },
  {
   "cell_type": "code",
   "execution_count": null,
   "id": "d99a23d5-8a35-4769-af10-836d3185d940",
   "metadata": {},
   "outputs": [],
   "source": []
  },
  {
   "cell_type": "markdown",
   "id": "967897ec-a5ac-4516-bacf-f039d2b20025",
   "metadata": {},
   "source": [
    "# Question 2\n",
    "In your opinon, how well will K-Means perform on the above dataset? Explain."
   ]
  },
  {
   "cell_type": "code",
   "execution_count": null,
   "id": "0d472179-3bb3-4be4-af99-188749c460a1",
   "metadata": {},
   "outputs": [],
   "source": []
  },
  {
   "cell_type": "markdown",
   "id": "486b938f-85c8-4b69-b8f6-05ab49c2a560",
   "metadata": {},
   "source": [
    "# Question 3\n",
    "1. Use Elbow method to find best \"k\". (Use inertia as metric).\n",
    "2. Plot the elbow graph.\n",
    "3. Train KMeans model using \"k = 2\".\n",
    "4. Comment on the results."
   ]
  },
  {
   "cell_type": "code",
   "execution_count": null,
   "id": "4f3fbc8f-61f9-4511-8082-d63f1a54e821",
   "metadata": {},
   "outputs": [],
   "source": []
  },
  {
   "cell_type": "markdown",
   "id": "a419ed96-c98f-40ec-958e-bb72e2b1cd0b",
   "metadata": {},
   "source": [
    "# Question 4\n",
    "1. If you are going to use clique, what is a proper threshold value for the above dataset.\n",
    "2. Find the best interval value that cluster the data into two clusters, plot the results.\n",
    "3. Why do you think clique performed better on this dataset in comparison with KMeans?"
   ]
  },
  {
   "cell_type": "code",
   "execution_count": null,
   "id": "7357f37d-0334-44be-bf56-269bc09066f0",
   "metadata": {},
   "outputs": [],
   "source": []
  },
  {
   "cell_type": "markdown",
   "id": "683597b6-e965-46f7-b88e-6176aa44a63e",
   "metadata": {},
   "source": [
    "# Question 5\n",
    "For the following dataset\n",
    "1. Run kmeans algorithm clustering using k=2.\n",
    "2. Run clique algorithm using interval = 15 and threshold = 6.\n",
    "3. Plot results of both algorithms.\n",
    "4. Comment on the following\n",
    "    * What is the number of clusters in case of clique? and why?\n",
    "    * Why do kmeans fail to cluster such data?"
   ]
  },
  {
   "cell_type": "code",
   "execution_count": null,
   "id": "f5887bae-7dc5-4af4-9cc7-9d0c3f9f2999",
   "metadata": {},
   "outputs": [],
   "source": []
  },
  {
   "cell_type": "code",
   "execution_count": null,
   "id": "9c1ee137-beee-4fda-b4bf-912ece5fcf35",
   "metadata": {},
   "outputs": [],
   "source": [
    "n_samples = 1500\n",
    "random_state = 170\n",
    "X, y = make_blobs(n_samples=n_samples, random_state=random_state, centers=2)\n",
    "transformation = [[0.60834549, -0.63667341], [-0.40887718, 0.85253229]]\n",
    "X_aniso = np.dot(X, transformation)"
   ]
  },
  {
   "cell_type": "markdown",
   "id": "4d9ac326-52d3-498e-8e9a-772c088338f4",
   "metadata": {},
   "source": [
    "# Question 6\n",
    "\n",
    "Write your own PCA function that will return:\n",
    "* The sorted eigenvectors of principal components\n",
    "* The corresponding eigenvalues\n",
    "* The transformed data\n",
    "\n",
    "Note, please make sure that the data is centered before transformation (i.e., the sample\n",
    "mean subtracted out) but not normalized."
   ]
  },
  {
   "cell_type": "code",
   "execution_count": null,
   "id": "7d7fb0d2-3ec8-449c-9e4f-bba8533ea088",
   "metadata": {},
   "outputs": [],
   "source": []
  },
  {
   "cell_type": "markdown",
   "id": "70d4c571-f509-4eb2-942c-f36e8f446678",
   "metadata": {},
   "source": [
    "# Question 7\n",
    "Write your own K-means clustering, where the Euclidian distance is used to evaluate\n",
    "the distance/ similarity between the dataset. The input to this function should be:\n",
    "* The number of clusters\n",
    "* The dataset\n",
    "\n",
    "The output should be:\n",
    "* The list of cluster centers"
   ]
  },
  {
   "cell_type": "code",
   "execution_count": null,
   "id": "8576e3c6-bab1-4730-a8b4-6a427d1da59a",
   "metadata": {},
   "outputs": [],
   "source": []
  }
 ],
 "metadata": {
  "kernelspec": {
   "display_name": "Python 3 (ipykernel)",
   "language": "python",
   "name": "python3"
  },
  "language_info": {
   "codemirror_mode": {
    "name": "ipython",
    "version": 3
   },
   "file_extension": ".py",
   "mimetype": "text/x-python",
   "name": "python",
   "nbconvert_exporter": "python",
   "pygments_lexer": "ipython3",
   "version": "3.9.7"
  }
 },
 "nbformat": 4,
 "nbformat_minor": 5
}
