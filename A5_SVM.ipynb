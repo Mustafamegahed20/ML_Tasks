{
  "cells": [
    {
      "cell_type": "markdown",
      "id": "a39de45c-e2ce-4852-9494-f21bb9f9beb7",
      "metadata": {
        "id": "a39de45c-e2ce-4852-9494-f21bb9f9beb7"
      },
      "source": [
        "# Assignment_3 SVM"
      ]
    },
    {
      "cell_type": "code",
      "execution_count": 139,
      "id": "643e7732-dd96-47df-854f-007ec5d5e10c",
      "metadata": {
        "id": "643e7732-dd96-47df-854f-007ec5d5e10c"
      },
      "outputs": [],
      "source": [
        "import numpy as np\n",
        "from matplotlib.colors import ListedColormap\n",
        "import matplotlib.pyplot as plt\n",
        "from google.colab import files\n",
        "import io"
      ]
    },
    {
      "cell_type": "markdown",
      "id": "24b0cbf7-010c-4f1e-96e5-73d79e99a007",
      "metadata": {
        "tags": [],
        "id": "24b0cbf7-010c-4f1e-96e5-73d79e99a007"
      },
      "source": [
        "# Part 2: SVM"
      ]
    },
    {
      "cell_type": "markdown",
      "id": "ce7b0851-a39c-4b17-99f6-a0d404a2577e",
      "metadata": {
        "id": "ce7b0851-a39c-4b17-99f6-a0d404a2577e"
      },
      "source": [
        "### Use the following function to plot the classification regions"
      ]
    },
    {
      "cell_type": "code",
      "execution_count": 140,
      "id": "8b776233-2fdd-4034-9c72-688869cdedc1",
      "metadata": {
        "id": "8b776233-2fdd-4034-9c72-688869cdedc1"
      },
      "outputs": [],
      "source": [
        "def plot_class_regions_for_classifier(clf, X, y, X_test=None, y_test=None, title=None, target_names = None, plot_decision_regions = True):\n",
        "\n",
        "    numClasses = np.amax(y) + 1\n",
        "    color_list_light = ['#FFFFAA', '#EFEFEF', '#AAFFAA', '#AAAAFF']\n",
        "    color_list_bold = ['#EEEE00', '#000000', '#00CC00', '#0000CC']\n",
        "    cmap_light = ListedColormap(color_list_light[0:numClasses])\n",
        "    cmap_bold  = ListedColormap(color_list_bold[0:numClasses])\n",
        "\n",
        "    h = 0.03\n",
        "    k = 0.5\n",
        "    x_plot_adjust = 0.1\n",
        "    y_plot_adjust = 0.1\n",
        "    plot_symbol_size = 50\n",
        "\n",
        "    x_min = X[:, 0].min()\n",
        "    x_max = X[:, 0].max()\n",
        "    y_min = X[:, 1].min()\n",
        "    y_max = X[:, 1].max()\n",
        "    x2, y2 = np.meshgrid(np.arange(x_min-k, x_max+k, h), np.arange(y_min-k, y_max+k, h))\n",
        "    # np.c_ Translates slice objects to concatenation along the second axis\n",
        "    # e.g. np.c_[np.array([[1,2,3]]), 0, 0, np.array([[4,5,6]])]\n",
        "    # ravel() Returns a contiguous flattened array.\n",
        "    # x = np.array([[1, 2, 3], [4, 5, 6]])\n",
        "    # np.ravel(x) = [1 2 3 4 5 6]\n",
        "    P = clf.predict(np.c_[x2.ravel(), y2.ravel()])\n",
        "    P = P.reshape(x2.shape)\n",
        "    plt.figure()\n",
        "    if plot_decision_regions:\n",
        "        plt.contourf(x2, y2, P, cmap=cmap_light, alpha = 0.8)\n",
        "\n",
        "    plt.scatter(X[:, 0], X[:, 1], c=y, cmap=cmap_bold, s=plot_symbol_size, edgecolor = 'black')\n",
        "    plt.xlim(x_min - x_plot_adjust, x_max + x_plot_adjust)\n",
        "    plt.ylim(y_min - y_plot_adjust, y_max + y_plot_adjust)\n",
        "\n",
        "    if (X_test is not None):\n",
        "        plt.scatter(X_test[:, 0], X_test[:, 1], c=y_test, cmap=cmap_bold, s=plot_symbol_size, marker='^', edgecolor = 'black')\n",
        "        train_score = clf.score(X, y)\n",
        "        test_score  = clf.score(X_test, y_test)\n",
        "        title = title + \"\\nTrain score = {:.2f}, Test score = {:.2f}\".format(train_score, test_score)\n",
        "\n",
        "    if (target_names is not None):\n",
        "        legend_handles = []\n",
        "        for i in range(0, len(target_names)):\n",
        "            patch = mpatches.Patch(color=color_list_bold[i], label=target_names[i])\n",
        "            legend_handles.append(patch)\n",
        "        plt.legend(loc=0, handles=legend_handles)\n",
        "\n",
        "    if (title is not None):\n",
        "        plt.title(title)\n",
        "    plt.show()"
      ]
    },
    {
      "cell_type": "markdown",
      "id": "164ced46-3aab-4bb3-8be1-ce62dfbd841d",
      "metadata": {
        "id": "164ced46-3aab-4bb3-8be1-ce62dfbd841d"
      },
      "source": [
        "### Use the following dataset in questions 1, 2, and 3."
      ]
    },
    {
      "cell_type": "code",
      "execution_count": 141,
      "id": "99970010-3f35-42b7-8ae5-39e0b905db3e",
      "metadata": {
        "id": "99970010-3f35-42b7-8ae5-39e0b905db3e"
      },
      "outputs": [],
      "source": [
        "from sklearn.datasets import make_classification\n",
        "\n",
        "X, y = make_classification(n_samples = 100, n_features=2,\n",
        "                                n_redundant=0, n_informative=2,\n",
        "                                n_clusters_per_class=1, flip_y = 0.1,\n",
        "                                class_sep = 0.5, random_state=0)"
      ]
    },
    {
      "cell_type": "markdown",
      "id": "c4ec298b-d4af-467f-8379-cad0c7704fbf",
      "metadata": {
        "id": "c4ec298b-d4af-467f-8379-cad0c7704fbf"
      },
      "source": [
        "#### Question 1\n",
        "Split the data into training and testing datasets (use random_state=0 and 25% of the data for testing)"
      ]
    },
    {
      "cell_type": "code",
      "execution_count": 142,
      "id": "70a204f4-9316-4b45-8ccd-18614a4fd61c",
      "metadata": {
        "id": "70a204f4-9316-4b45-8ccd-18614a4fd61c"
      },
      "outputs": [],
      "source": [
        "from sklearn.model_selection import train_test_split\n",
        "X_train, X_test, y_train, y_test = train_test_split(X, y, test_size=0.25, random_state=0, shuffle =True)"
      ]
    },
    {
      "cell_type": "markdown",
      "id": "ef0f7835-a714-4bfc-92ed-6eab6a6e24f0",
      "metadata": {
        "id": "ef0f7835-a714-4bfc-92ed-6eab6a6e24f0"
      },
      "source": [
        "#### Question 2\n",
        "1. Train an SVM classifier using linear kernel.\n",
        "2. Plot the classification regions using the training dataset."
      ]
    },
    {
      "cell_type": "code",
      "execution_count": 143,
      "id": "82b7faaf-35fa-4993-aedd-9cd083657726",
      "metadata": {
        "colab": {
          "base_uri": "https://localhost:8080/",
          "height": 265
        },
        "id": "82b7faaf-35fa-4993-aedd-9cd083657726",
        "outputId": "6daf0daf-6f9a-4ea3-abb0-6bee9cc9b0ba"
      },
      "outputs": [
        {
          "output_type": "display_data",
          "data": {
            "text/plain": [
              "<Figure size 432x288 with 1 Axes>"
            ],
            "image/png": "[encoded data removed]"
          },
          "metadata": {
            "needs_background": "light"
          }
        }
      ],
      "source": [
        "from sklearn.svm import SVC\n",
        "clf = SVC(kernel='linear')\n",
        "clf.fit(X_train, y_train)\n",
        "plot_class_regions_for_classifier(clf, X_train, y_train, X_test=None, y_test=None, title=None, target_names = None, plot_decision_regions = True)"
      ]
    },
    {
      "cell_type": "markdown",
      "id": "498f2792-e6fb-46dc-b914-ef6cfe161f17",
      "metadata": {
        "id": "498f2792-e6fb-46dc-b914-ef6cfe161f17"
      },
      "source": [
        "#### Question 3\n",
        "1. Train an SVM classifier using linear kernel with C=0.00001.\n",
        "2. Train another SVM classifier using linear kernel with C=100\n",
        "3. Plot the classification regions for both cases using the training dataset.\n",
        "4. Comment on the results."
      ]
    },
    {
      "cell_type": "code",
      "execution_count": 144,
      "id": "8a31a9d1-90e2-484e-981b-6e103bb3bfe3",
      "metadata": {
        "colab": {
          "base_uri": "https://localhost:8080/",
          "height": 513
        },
        "id": "8a31a9d1-90e2-484e-981b-6e103bb3bfe3",
        "outputId": "c9768c38-3a07-41ea-8e85-a774658f7f1b"
      },
      "outputs": [
        {
          "output_type": "display_data",
          "data": {
            "text/plain": [
              "<Figure size 432x288 with 1 Axes>"
            ],
            "image/png": "[encoded data removed]"
          },
          "metadata": {
            "needs_background": "light"
          }
        },
        {
          "output_type": "display_data",
          "data": {
            "text/plain": [
              "<Figure size 432x288 with 1 Axes>"
            ],
            "image/png": "[encoded data removed]"
          },
          "metadata": {
            "needs_background": "light"
          }
        }
      ],
      "source": [
        "## at c=0.00001\n",
        "\n",
        "clf = SVC(kernel='linear',C=0.00001)\n",
        "clf.fit(X_train, y_train)\n",
        "plot_class_regions_for_classifier(clf, X_train, y_train, X_test=None, y_test=None, title=None, target_names = None, plot_decision_regions = True)\n",
        "\n",
        "\n",
        "## at c=100\n",
        "\n",
        "clf = SVC(kernel='linear',C=100)\n",
        "clf.fit(X_train, y_train)\n",
        "plot_class_regions_for_classifier(clf, X_train, y_train, X_test=None, y_test=None, title=None, target_names = None, plot_decision_regions = True)\n",
        "\n",
        "\n",
        "##higher c >> increase in varience and decrease in bias which lead to overfitting of data\n",
        "##lower c  >> decrase in varience and increase in bias which lead to underfitting of data"
      ]
    },
    {
      "cell_type": "markdown",
      "id": "aa143670-7f09-474b-b10f-6b22e735a026",
      "metadata": {
        "id": "aa143670-7f09-474b-b10f-6b22e735a026"
      },
      "source": [
        "### Use the fruits dataset in questions 4, 5, 6."
      ]
    },
    {
      "cell_type": "code",
      "source": [
        "files.upload()"
      ],
      "metadata": {
        "colab": {
          "resources": {
            "http://localhost:8080/nbextensions/google.colab/files.js": {
              "data": "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",
              "ok": true,
              "headers": [
                [
                  "content-type",
                  "application/javascript"
                ]
              ],
              "status": 200,
              "status_text": ""
            }
          },
          "base_uri": "https://localhost:8080/",
          "height": 111
        },
        "id": "sJMfmOIpnIsy",
        "outputId": "ba3304cd-4bde-42c7-c09f-f6fbc52306cb"
      },
      "id": "sJMfmOIpnIsy",
      "execution_count": 145,
      "outputs": [
        {
          "output_type": "display_data",
          "data": {
            "text/plain": [
              "<IPython.core.display.HTML object>"
            ],
            "text/html": [
              "\n",
              "     <input type=\"file\" id=\"files-c12985f1-689a-4a63-baae-2cf7d29be8c4\" name=\"files[]\" multiple disabled\n",
              "        style=\"border:none\" />\n",
              "     <output id=\"result-c12985f1-689a-4a63-baae-2cf7d29be8c4\">\n",
              "      Upload widget is only available when the cell has been executed in the\n",
              "      current browser session. Please rerun this cell to enable.\n",
              "      </output>\n",
              "      <script src=\"/nbextensions/google.colab/files.js\"></script> "
            ]
          },
          "metadata": {}
        },
        {
          "output_type": "stream",
          "name": "stdout",
          "text": [
            "Saving fruit_data_with_colors.txt to fruit_data_with_colors (6).txt\n"
          ]
        },
        {
          "output_type": "execute_result",
          "data": {
            "text/plain": [
              "{'fruit_data_with_colors.txt': b'fruit_label\\tfruit_name\\tfruit_subtype\\tmass\\twidth\\theight\\tcolor_score\\r\\n1\\tapple\\tgranny_smith\\t192\\t8.4\\t7.3\\t0.55\\r\\n1\\tapple\\tgranny_smith\\t180\\t8.0\\t6.8\\t0.59\\r\\n1\\tapple\\tgranny_smith\\t176\\t7.4\\t7.2\\t0.60\\r\\n2\\tmandarin\\tmandarin\\t86 \\t6.2\\t4.7\\t0.80\\r\\n2\\tmandarin\\tmandarin\\t84 \\t6.0\\t4.6\\t0.79\\r\\n2\\tmandarin\\tmandarin\\t80 \\t5.8\\t4.3\\t0.77\\r\\n2\\tmandarin\\tmandarin\\t80 \\t5.9 \\t4.3\\t0.81\\r\\n2\\tmandarin\\tmandarin\\t76\\t5.8\\t4.0\\t0.81\\r\\n1\\tapple\\tbraeburn\\t178\\t7.1\\t7.8\\t0.92\\r\\n1\\tapple\\tbraeburn\\t172\\t7.4\\t7.0\\t0.89\\r\\n1\\tapple\\tbraeburn\\t166\\t6.9\\t7.3\\t0.93\\r\\n1\\tapple\\tbraeburn\\t172\\t7.1\\t7.6\\t0.92\\r\\n1\\tapple\\tbraeburn\\t154\\t7.0\\t7.1\\t0.88\\r\\n1\\tapple\\tgolden_delicious\\t164\\t7.3\\t7.7\\t0.70\\r\\n1\\tapple\\tgolden_delicious\\t152\\t7.6\\t7.3\\t0.69\\r\\n1\\tapple\\tgolden_delicious\\t156\\t7.7\\t7.1\\t0.69\\r\\n1\\tapple\\tgolden_delicious\\t156\\t7.6\\t7.5\\t0.67\\r\\n1\\tapple\\tgolden_delicious\\t168\\t7.5\\t7.6\\t0.73\\r\\n1\\tapple\\tcripps_pink\\t162\\t7.5\\t7.1\\t0.83\\r\\n1\\tapple\\tcripps_pink\\t162\\t7.4\\t7.2\\t0.85\\r\\n1\\tapple\\tcripps_pink\\t160\\t7.5\\t7.5\\t0.86\\r\\n1\\tapple\\tcripps_pink\\t156\\t7.4\\t7.4\\t0.84\\r\\n1\\tapple\\tcripps_pink\\t140\\t7.3\\t7.1\\t0.87\\r\\n1\\tapple\\tcripps_pink\\t170\\t7.6\\t7.9\\t0.88\\r\\n3\\torange\\tspanish_jumbo\\t342\\t9.0\\t9.4\\t0.75\\r\\n3\\torange\\tspanish_jumbo\\t356\\t9.2\\t9.2\\t0.75\\r\\n3\\torange\\tspanish_jumbo\\t362\\t9.6\\t9.2\\t0.74\\r\\n3\\torange\\tselected_seconds\\t204\\t7.5\\t9.2\\t0.77\\r\\n3\\torange\\tselected_seconds\\t140\\t6.7\\t7.1\\t0.72\\r\\n3\\torange\\tselected_seconds\\t160\\t7.0\\t7.4\\t0.81\\r\\n3\\torange\\tselected_seconds\\t158\\t7.1\\t7.5\\t0.79\\r\\n3\\torange\\tselected_seconds\\t210\\t7.8\\t8.0\\t0.82\\r\\n3\\torange\\tselected_seconds\\t164\\t7.2\\t7.0\\t0.80\\r\\n3\\torange\\tturkey_navel\\t190\\t7.5\\t8.1\\t0.74\\r\\n3\\torange\\tturkey_navel\\t142\\t7.6\\t7.8\\t0.75\\r\\n3\\torange\\tturkey_navel\\t150\\t7.1\\t7.9\\t0.75\\r\\n3\\torange\\tturkey_navel\\t160\\t7.1\\t7.6\\t0.76\\r\\n3\\torange\\tturkey_navel\\t154\\t7.3\\t7.3\\t0.79\\r\\n3\\torange\\tturkey_navel\\t158\\t7.2\\t7.8\\t0.77\\r\\n3\\torange\\tturkey_navel\\t144\\t6.8\\t7.4\\t0.75\\r\\n3\\torange\\tturkey_navel\\t154\\t7.1\\t7.5\\t0.78\\r\\n3\\torange\\tturkey_navel\\t180\\t7.6\\t8.2\\t0.79\\r\\n3\\torange\\tturkey_navel\\t154\\t7.2\\t7.2\\t0.82\\r\\n4\\tlemon\\tspanish_belsan\\t194\\t7.2\\t10.3\\t0.70\\r\\n4\\tlemon\\tspanish_belsan\\t200\\t7.3\\t10.5\\t0.72\\r\\n4\\tlemon\\tspanish_belsan\\t186\\t7.2\\t9.2\\t0.72\\r\\n4\\tlemon\\tspanish_belsan\\t216\\t7.3\\t10.2\\t0.71\\r\\n4\\tlemon\\tspanish_belsan\\t196\\t7.3\\t9.7\\t0.72\\r\\n4\\tlemon\\tspanish_belsan\\t174\\t7.3\\t10.1\\t0.72\\r\\n4\\tlemon\\tunknown\\t132\\t5.8\\t8.7\\t0.73\\r\\n4\\tlemon\\tunknown\\t130\\t6.0\\t8.2\\t0.71\\r\\n4\\tlemon\\tunknown\\t116\\t6.0\\t7.5\\t0.72\\r\\n4\\tlemon\\tunknown\\t118\\t5.9\\t8.0\\t0.72\\r\\n4\\tlemon\\tunknown\\t120\\t6.0\\t8.4\\t0.74\\r\\n4\\tlemon\\tunknown\\t116\\t6.1\\t8.5\\t0.71\\r\\n4\\tlemon\\tunknown\\t116\\t6.3\\t7.7\\t0.72\\r\\n4\\tlemon\\tunknown\\t116\\t5.9\\t8.1\\t0.73\\r\\n4\\tlemon\\tunknown\\t152\\t6.5\\t8.5\\t0.72\\r\\n4\\tlemon\\tunknown\\t118\\t6.1\\t8.1\\t0.70'}"
            ]
          },
          "metadata": {},
          "execution_count": 145
        }
      ]
    },
    {
      "cell_type": "code",
      "execution_count": 146,
      "id": "78a7c63d-c3e4-4d70-b5d5-d25685bc9099",
      "metadata": {
        "id": "78a7c63d-c3e4-4d70-b5d5-d25685bc9099",
        "colab": {
          "base_uri": "https://localhost:8080/"
        },
        "outputId": "852a3a74-e79f-464a-b84d-0ff46b8cb89e"
      },
      "outputs": [
        {
          "output_type": "stream",
          "name": "stdout",
          "text": [
            "   fruit_label fruit_name fruit_subtype  mass  width  height  color_score\n",
            "0            1      apple  granny_smith   192    8.4     7.3         0.55\n",
            "1            1      apple  granny_smith   180    8.0     6.8         0.59\n",
            "2            1      apple  granny_smith   176    7.4     7.2         0.60\n",
            "3            2   mandarin      mandarin    86    6.2     4.7         0.80\n",
            "4            2   mandarin      mandarin    84    6.0     4.6         0.79\n"
          ]
        }
      ],
      "source": [
        "import pandas as pd\n",
        "\n",
        "fruits = pd.read_table('fruit_data_with_colors.txt')\n",
        "print(fruits.head())\n",
        "feature_names_fruits = ['height', 'width']"
      ]
    },
    {
      "cell_type": "markdown",
      "id": "66352dde-4078-44ab-8887-83f5692e27bb",
      "metadata": {
        "id": "66352dde-4078-44ab-8887-83f5692e27bb"
      },
      "source": [
        "#### Question 4\n",
        "1. Split the data by columns into X_fruits and y_fruits where X_fruits is the data records and y_fruits is the labels.\n",
        "2. Using only the **'height'** and **'width'** features, split the data into training and testing using random_state=0, and 25% of the data for testing.\n",
        "3. Using **sklearn LinearSVC**, train a linear svm"
      ]
    },
    {
      "cell_type": "code",
      "execution_count": 147,
      "id": "5dd1699a-1da6-4824-8fda-ec8ab5ee888d",
      "metadata": {
        "id": "5dd1699a-1da6-4824-8fda-ec8ab5ee888d",
        "colab": {
          "base_uri": "https://localhost:8080/"
        },
        "outputId": "08aa57a7-78e2-4ac4-be7e-d2ada332ef81"
      },
      "outputs": [
        {
          "output_type": "stream",
          "name": "stderr",
          "text": [
            "/usr/local/lib/python3.7/dist-packages/sklearn/svm/_base.py:1208: ConvergenceWarning: Liblinear failed to converge, increase the number of iterations.\n",
            "  ConvergenceWarning,\n"
          ]
        },
        {
          "output_type": "execute_result",
          "data": {
            "text/plain": [
              "0.75"
            ]
          },
          "metadata": {},
          "execution_count": 147
        }
      ],
      "source": [
        "from sklearn.svm import LinearSVC\n",
        "X = fruits[feature_names_fruits]\n",
        "y = fruits['fruit_label']  \n",
        "X_train, X_test, y_train, y_test = train_test_split(X, y, random_state=0 ,test_size=0.25)\n",
        "\n",
        "clf = LinearSVC()\n",
        "clf.fit(X_train, y_train)\n",
        "clf.score(X_train,y_train)\n",
        "# X.head()"
      ]
    },
    {
      "cell_type": "markdown",
      "id": "a611f9a5-9b50-4254-9758-b345c0a8b004",
      "metadata": {
        "id": "a611f9a5-9b50-4254-9758-b345c0a8b004"
      },
      "source": [
        "#### Question 5\n",
        "For the previous model from question 4. \n",
        "1. How many SVM models have been trained? and Why?\n",
        "2. Print the models' coefficients and intercepts."
      ]
    },
    {
      "cell_type": "markdown",
      "source": [
        "1.4 models due to 4 labels in the dataset"
      ],
      "metadata": {
        "id": "AKLxMkkoleRj"
      },
      "id": "AKLxMkkoleRj"
    },
    {
      "cell_type": "code",
      "execution_count": 148,
      "id": "a570c2fd-da23-45a9-991e-0cbaaf42a408",
      "metadata": {
        "id": "a570c2fd-da23-45a9-991e-0cbaaf42a408",
        "colab": {
          "base_uri": "https://localhost:8080/"
        },
        "outputId": "8854e9f1-faef-4ca3-b6ed-f54c7b7f3b29"
      },
      "outputs": [
        {
          "output_type": "stream",
          "name": "stdout",
          "text": [
            "coefficients [[-0.26872327  0.52747052]\n",
            " [-1.10776031  0.78991692]\n",
            " [-0.01879877  0.20178038]\n",
            " [ 1.0105044  -1.26189155]]\n",
            "intercepts [[-1.90404412]\n",
            " [ 0.78679348]\n",
            " [-1.71710506]\n",
            " [ 0.37271225]]\n"
          ]
        },
        {
          "output_type": "stream",
          "name": "stderr",
          "text": [
            "/usr/local/lib/python3.7/dist-packages/sklearn/svm/_base.py:1208: ConvergenceWarning: Liblinear failed to converge, increase the number of iterations.\n",
            "  ConvergenceWarning,\n",
            "/usr/local/lib/python3.7/dist-packages/sklearn/svm/_base.py:1208: ConvergenceWarning: Liblinear failed to converge, increase the number of iterations.\n",
            "  ConvergenceWarning,\n",
            "/usr/local/lib/python3.7/dist-packages/sklearn/svm/_base.py:1208: ConvergenceWarning: Liblinear failed to converge, increase the number of iterations.\n",
            "  ConvergenceWarning,\n",
            "/usr/local/lib/python3.7/dist-packages/sklearn/svm/_base.py:1208: ConvergenceWarning: Liblinear failed to converge, increase the number of iterations.\n",
            "  ConvergenceWarning,\n",
            "/usr/local/lib/python3.7/dist-packages/sklearn/utils/deprecation.py:103: FutureWarning: Attribute `coef_` was deprecated in version 0.24 and will be removed in 1.1 (renaming of 0.26). If you observe this warning while using RFE or SelectFromModel, use the importance_getter parameter instead.\n",
            "  warnings.warn(msg, category=FutureWarning)\n",
            "/usr/local/lib/python3.7/dist-packages/sklearn/utils/deprecation.py:103: FutureWarning: Attribute `intercept_` was deprecated in version 0.24 and will be removed in 1.1 (renaming of 0.26). If you observe this warning while using RFE or SelectFromModel, use the importance_getter parameter instead.\n",
            "  warnings.warn(msg, category=FutureWarning)\n"
          ]
        }
      ],
      "source": [
        "from sklearn.multiclass import OneVsRestClassifier\n",
        "\n",
        "X_train=np.array(X_train)\n",
        "y_train=np.array(y_train)\n",
        "clf = OneVsRestClassifier(LinearSVC()).fit(X_train,y_train)\n",
        "\n",
        "clf.score(X_train,y_train)\n",
        "print(\"coefficients\",clf.coef_)\n",
        "print(\"intercepts\",clf.intercept_)\n"
      ]
    },
    {
      "cell_type": "markdown",
      "id": "38e23755-67ec-4206-82f8-510af6afb99a",
      "metadata": {
        "id": "38e23755-67ec-4206-82f8-510af6afb99a"
      },
      "source": [
        "#### Question 6\n",
        "Plot the classification boundary of each svm on a scatter plot of the training data."
      ]
    },
    {
      "cell_type": "code",
      "execution_count": 149,
      "id": "739782a7-14f3-4abb-ac5d-ae37e72338f8",
      "metadata": {
        "id": "739782a7-14f3-4abb-ac5d-ae37e72338f8",
        "colab": {
          "base_uri": "https://localhost:8080/",
          "height": 265
        },
        "outputId": "f6d2aee4-3401-43cd-8655-d34175a5c481"
      },
      "outputs": [
        {
          "output_type": "display_data",
          "data": {
            "text/plain": [
              "<Figure size 432x288 with 1 Axes>"
            ],
            "image/png": "[encoded data removed]"
          },
          "metadata": {
            "needs_background": "light"
          }
        }
      ],
      "source": [
        "plot_class_regions_for_classifier(clf, X_train, y_train, X_test=None, y_test=None, title=None, target_names = None, plot_decision_regions = True)\n"
      ]
    },
    {
      "cell_type": "markdown",
      "id": "2e11ad7d-6ae9-46b2-b788-ed90ea00dcfb",
      "metadata": {
        "id": "2e11ad7d-6ae9-46b2-b788-ed90ea00dcfb"
      },
      "source": [
        "from sklearn.datasets import load_breast_cancer\n",
        "(X_cancer, y_cancer) = load_breast_cancer(return_X_y = True)### Use the breast cancer dataset in question 7, 8, and9."
      ]
    },
    {
      "cell_type": "code",
      "execution_count": 150,
      "id": "de479d67-6c2c-4be0-9526-83fe840138c4",
      "metadata": {
        "id": "de479d67-6c2c-4be0-9526-83fe840138c4"
      },
      "outputs": [],
      "source": [
        "from sklearn.datasets import load_breast_cancer\n",
        "(X_cancer, y_cancer) = load_breast_cancer(return_X_y = True)"
      ]
    },
    {
      "cell_type": "markdown",
      "id": "19edd997-56a1-4a8d-bbc8-5d53a8aa3a1a",
      "metadata": {
        "id": "19edd997-56a1-4a8d-bbc8-5d53a8aa3a1a"
      },
      "source": [
        "#### Question 7\n",
        "1. Split the dataset into training and testing datasets, use random_state = 0, and 25% of the data for testing.\n",
        "2. Use GridSearchCV to find the best C value for and SVM classifier with rbf kernel and print the best C value. *use:*  \n",
        "```python\n",
        "parameters = {'kernel' : ('poly', 'rbf'), 'C':[0.01, 0.1, 0.5, 1, 10]}\n",
        "```\n",
        "3. Print the best parameters resulted from your grid search."
      ]
    },
    {
      "cell_type": "code",
      "execution_count": 151,
      "id": "13a88e01-c565-4a50-b213-d749f596847e",
      "metadata": {
        "id": "13a88e01-c565-4a50-b213-d749f596847e",
        "colab": {
          "base_uri": "https://localhost:8080/"
        },
        "outputId": "a7823270-bf06-4c9b-dd5c-96268629c2cf"
      },
      "outputs": [
        {
          "output_type": "stream",
          "name": "stdout",
          "text": [
            "params :  {'C': 10, 'kernel': 'rbf'}\n"
          ]
        },
        {
          "output_type": "execute_result",
          "data": {
            "text/plain": [
              "0.9154929577464789"
            ]
          },
          "metadata": {},
          "execution_count": 151
        }
      ],
      "source": [
        "from sklearn.model_selection import GridSearchCV\n",
        "\n",
        "X_train, X_test, y_train, y_test = train_test_split(X_cancer, y_cancer, random_state=0 ,test_size=0.25)\n",
        "parameters = {'kernel' : ('poly', 'rbf'), 'C':[0.01, 0.1, 0.5, 1, 10]}\n",
        "svc = SVC()\n",
        "clf = GridSearchCV(svc, parameters, cv=5)\n",
        "clf.fit(X_train, y_train)\n",
        "print('params : ' , clf.best_params_)\n",
        "clf.score(X_train,y_train)"
      ]
    },
    {
      "cell_type": "markdown",
      "id": "0b0a89ca-c6a7-4ee2-8816-f548f3d1c370",
      "metadata": {
        "id": "0b0a89ca-c6a7-4ee2-8816-f548f3d1c370"
      },
      "source": [
        "#### Question 8\n",
        "Train an SVM model using the best parameters resulted from question 7, then calculate and print the training and testing accuracy."
      ]
    },
    {
      "cell_type": "code",
      "execution_count": 152,
      "id": "01cff031-bb89-4312-a4e4-625d75c7063d",
      "metadata": {
        "id": "01cff031-bb89-4312-a4e4-625d75c7063d",
        "colab": {
          "base_uri": "https://localhost:8080/"
        },
        "outputId": "06f748b7-18dd-4af6-e883-fb15371dc9ae"
      },
      "outputs": [
        {
          "output_type": "stream",
          "name": "stdout",
          "text": [
            "Accuracy of training set 0.9154929577464789\n",
            "Accuracy of test set 0.9370629370629371\n"
          ]
        }
      ],
      "source": [
        "from sklearn.metrics import accuracy_score\n",
        "\n",
        "X_train, X_test, y_train, y_test = train_test_split(X_cancer, y_cancer, random_state=0 ,test_size=0.25)\n",
        "\n",
        "clf = SVC(kernel='rbf',C=10)\n",
        "clf.fit(X_train, y_train)\n",
        "\n",
        "print('Accuracy of training set', clf.score(X_train, y_train))   \n",
        "print('Accuracy of test set' ,clf.score(X_test, y_test)) \n"
      ]
    },
    {
      "cell_type": "markdown",
      "id": "04675165-358e-4881-b04c-448f78830b38",
      "metadata": {
        "id": "04675165-358e-4881-b04c-448f78830b38"
      },
      "source": [
        "#### Question 9\n",
        "Improve the previous results from question 8.\n",
        "\n",
        "**Hint:** Don't change the model, instead, make some preprocessing on the data."
      ]
    },
    {
      "cell_type": "code",
      "execution_count": 166,
      "id": "7a6cacbc-c961-4b06-b2ae-31bf5e4636b0",
      "metadata": {
        "id": "7a6cacbc-c961-4b06-b2ae-31bf5e4636b0",
        "colab": {
          "base_uri": "https://localhost:8080/"
        },
        "outputId": "836957c6-498b-47b8-8c5c-e34a6c8fb5a8"
      },
      "outputs": [
        {
          "output_type": "stream",
          "name": "stdout",
          "text": [
            "Pipeline Model Train Score is :  0.9882629107981221\n",
            "Pipeline Model Test Score is :  0.965034965034965\n"
          ]
        }
      ],
      "source": [
        "from sklearn.preprocessing import PolynomialFeatures\n",
        "from sklearn.preprocessing import StandardScaler\n",
        "from sklearn.pipeline import make_pipeline\n",
        "\n",
        "#=======================================================================\n",
        "PipelineModel = make_pipeline(StandardScaler(), SVC(kernel='rbf', random_state=0, C=10))\n",
        "PipelineModel.fit(X_train, y_train)\n",
        "\n",
        "#Calculating Details\n",
        "\n",
        "print('Pipeline Model Train Score is : ' , PipelineModel.score(X_train, y_train))\n",
        "print('Pipeline Model Test Score is : ' , PipelineModel.score(X_test, y_test))\n"
      ]
    }
  ],
  "metadata": {
    "kernelspec": {
      "display_name": "Python 3 (ipykernel)",
      "language": "python",
      "name": "python3"
    },
    "language_info": {
      "codemirror_mode": {
        "name": "ipython",
        "version": 3
      },
      "file_extension": ".py",
      "mimetype": "text/x-python",
      "name": "python",
      "nbconvert_exporter": "python",
      "pygments_lexer": "ipython3",
      "version": "3.9.7"
    },
    "colab": {
      "name": "A5_SVM.ipynb",
      "provenance": []
    }
  },
  "nbformat": 4,
  "nbformat_minor": 5
}